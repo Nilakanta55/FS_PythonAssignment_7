{
 "cells": [
  {
   "cell_type": "markdown",
   "metadata": {},
   "source": [
    "1. What is the name of the feature responsible for generating Regex objects?"
   ]
  },
  {
   "cell_type": "markdown",
   "metadata": {},
   "source": [
    "The re. compile() function returns Regex objects. \n",
    "\n",
    "There are two ways to create a RegExp object: a literal notation and a constructor. The literal notation's parameters are enclosed between slashes and do not use quotation marks. The constructor function's parameters are not enclosed between slashes but do use quotation marks.\n",
    "    \n",
    "\n",
    "Steps of Regular Expression Matching\n",
    "Import the regex module with import re.\n",
    "Create a Regex object with the re. compile() function. ...\n",
    "Pass the string you want to search into the Regex object's search() method. ...\n",
    "Call the Match object's group() method to return a string of the actual matched text."
   ]
  },
  {
   "cell_type": "code",
   "execution_count": null,
   "metadata": {},
   "outputs": [],
   "source": []
  },
  {
   "cell_type": "markdown",
   "metadata": {},
   "source": [
    "2. Why do raw strings often appear in Regex objects?"
   ]
  },
  {
   "cell_type": "markdown",
   "metadata": {},
   "source": [
    "\n",
    "According to Python docs, raw string notation (r\"text\") keeps regular expressions meaningful and confusion-free. Without it, every backslash ('\\') in a regular expression would have to be prefixed with another one to escape it. For example, the two following lines of code are functionally identical − >>> re."
   ]
  },
  {
   "cell_type": "code",
   "execution_count": null,
   "metadata": {},
   "outputs": [],
   "source": []
  },
  {
   "cell_type": "markdown",
   "metadata": {},
   "source": [
    "3. What is the return value of the search() method?"
   ]
  },
  {
   "cell_type": "markdown",
   "metadata": {},
   "source": [
    "The search() method searches a string for a specified value, and returns the position of the match. The search value can be string or a regular expression. The search() method returns -1 if no match is found.\n",
    "\n",
    "\n",
    "The find() method returns an index of the first occurence only. The find() method performs case-sensitive search. It returns -1 if a substring is not found. Use start and end parameters to limit the search of a substring between the specified starting and ending index, as shown below."
   ]
  },
  {
   "cell_type": "code",
   "execution_count": null,
   "metadata": {},
   "outputs": [],
   "source": []
  },
  {
   "cell_type": "markdown",
   "metadata": {},
   "source": [
    "4. From a Match item, how do you get the actual strings that match the pattern?"
   ]
  },
  {
   "cell_type": "markdown",
   "metadata": {},
   "source": [
    "\n",
    "How do you get the actual strings that match the pattern from a Match object? The group() method returns strings of the matched text.\n",
    "\n",
    "\n",
    "How do you get the actual strings that match the pattern from a Match object? The group() method returns strings of the matched text.\n",
    "\n",
    "\n",
    "\n",
    "These are usually used to detect the beginning and the end of a line. However this may be the correct way in this case. But if you wish to match an exact word the more elegant way is to use '\\b'. In this case following pattern will match the exact phrase'123456'."
   ]
  },
  {
   "cell_type": "markdown",
   "metadata": {},
   "source": [
    "In this example we shall show you how to check if a String matches a Pattern. To check if a String matches a Pattern one should perform the following steps:\n",
    "\n",
    "Compile a String regular expression to a Pattern, using compile(String regex) API method of Pattern.\n",
    "Use matcher(CharSequence input) API method of Pattern to create a Matcher that will match the given String input against this pattern.\n",
    "Use matches() API method of Matcher to match the entire region against the pattern. It returns true if, and only if, the entire region sequence matches this matcher’s pattern.\n",
    "Reset the matcher with a new input sequence, with reset(CharSequence input) API method of Matcher.\n",
    "Match the input sequence, starting at the beginning of the region, against the pattern, using lookingAt() API method of Matcher,"
   ]
  },
  {
   "cell_type": "code",
   "execution_count": null,
   "metadata": {},
   "outputs": [],
   "source": []
  },
  {
   "cell_type": "code",
   "execution_count": null,
   "metadata": {},
   "outputs": [],
   "source": []
  }
 ],
 "metadata": {
  "kernelspec": {
   "display_name": "Python 3",
   "language": "python",
   "name": "python3"
  },
  "language_info": {
   "codemirror_mode": {
    "name": "ipython",
    "version": 3
   },
   "file_extension": ".py",
   "mimetype": "text/x-python",
   "name": "python",
   "nbconvert_exporter": "python",
   "pygments_lexer": "ipython3",
   "version": "3.7.6"
  }
 },
 "nbformat": 4,
 "nbformat_minor": 4
}
